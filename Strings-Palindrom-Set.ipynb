{
 "cells": [
  {
   "cell_type": "markdown",
   "metadata": {},
   "source": [
    "## First Approach"
   ]
  },
  {
   "cell_type": "code",
   "execution_count": 43,
   "metadata": {
    "scrolled": true
   },
   "outputs": [
    {
     "name": "stdout",
     "output_type": "stream",
     "text": [
      "The string is symmetrical\n",
      "The String is a palindrome\n"
     ]
    }
   ],
   "source": [
    "teststring=\"amaama\"\n",
    "n=len(teststring)\n",
    "flag=0\n",
    "if n%2==0:\n",
    "    mid=n//2\n",
    "else:\n",
    "    mid=(n//2)+1\n",
    "\n",
    "for i in range(mid):\n",
    "    if mid+i<n:\n",
    "        if teststring[i]!=teststring[mid+i]:\n",
    "            break\n",
    "        else:\n",
    "            flag=1\n",
    "if flag==1:\n",
    "    print(\"The string is symmetrical\")\n",
    "else:\n",
    "    print(\"The string is not symmetrical\")\n",
    "    \n",
    "mid=len(teststring)//2\n",
    "flag=0\n",
    "for i in range(mid):\n",
    "    if teststring[i]!=teststring[len(teststring)-1-i]:\n",
    "        flag=1\n",
    "if flag==1:\n",
    "    print(\"The string is not a palindrome\")\n",
    "else:\n",
    "    print(\"The String is a palindrome\")"
   ]
  },
  {
   "cell_type": "markdown",
   "metadata": {},
   "source": [
    "## Second Approach"
   ]
  },
  {
   "cell_type": "code",
   "execution_count": 61,
   "metadata": {},
   "outputs": [
    {
     "name": "stdout",
     "output_type": "stream",
     "text": [
      "The string is symmetrical and palindrome\n"
     ]
    }
   ],
   "source": [
    "teststring=\"amaama\"\n",
    "n=len(teststring)\n",
    "flag=0\n",
    "if n%2==0:\n",
    "    mid=n//2\n",
    "    firststring=teststring[0:mid]\n",
    "    laststring=teststring[mid:]\n",
    "else:\n",
    "    mid=(n//2)+1\n",
    "    firststring=teststring[0:mid-1]\n",
    "    laststring=teststring[mid:]\n",
    "\n",
    "\n",
    "if firststring==laststring and firststring==laststring[::-1]:\n",
    "    print(\"The string is symmetrical and palindrome\")\n",
    "elif firststring==laststring and firststring!=laststring[::-1]:\n",
    "    print(\"The string is symmetrical but not a palindrome\")\n",
    "elif firststring!=laststring and firststring==laststring[::-1]:\n",
    "    print(\"The string is a palindrome but not symmetrical\")\n",
    "else:\n",
    "    print(\"The string is neither a palindrome nor symmetrical\")"
   ]
  }
 ],
 "metadata": {
  "kernelspec": {
   "display_name": "Python 3",
   "language": "python",
   "name": "python3"
  },
  "language_info": {
   "codemirror_mode": {
    "name": "ipython",
    "version": 3
   },
   "file_extension": ".py",
   "mimetype": "text/x-python",
   "name": "python",
   "nbconvert_exporter": "python",
   "pygments_lexer": "ipython3",
   "version": "3.6.9"
  }
 },
 "nbformat": 4,
 "nbformat_minor": 4
}
